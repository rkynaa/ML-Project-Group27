{
 "cells": [
  {
   "cell_type": "markdown",
   "metadata": {},
   "source": [
    "# Assignment 2 (DM Project)\n",
    "### Dataset = Kaggle - Google Play Store Apps (*https://www.kaggle.com/lava18/google-play-store-apps*)\n",
    "\n",
    "Group 27\n",
    "1. **Jonathan Vieri** - 219559949\n",
    "2. **Jason Andrea Limas** - 219559869\n",
    "3. **Rakyan Satrya Adhikara** - 219548135\n",
    "4. **Venura Hewage** - 215287247"
   ]
  },
  {
   "cell_type": "markdown",
   "metadata": {},
   "source": [
    "### Importing all necessary libraries"
   ]
  },
  {
   "cell_type": "code",
   "execution_count": 1,
   "metadata": {},
   "outputs": [],
   "source": [
    "# Importing libraries\n",
    "import numpy as np\n",
    "import pandas as pd\n",
    "import matplotlib.pyplot as plt\n",
    "import csv"
   ]
  },
  {
   "cell_type": "markdown",
   "metadata": {},
   "source": [
    "### Inserting the data"
   ]
  },
  {
   "cell_type": "code",
   "execution_count": 2,
   "metadata": {},
   "outputs": [
    {
     "data": {
      "text/html": [
       "<div>\n",
       "<style scoped>\n",
       "    .dataframe tbody tr th:only-of-type {\n",
       "        vertical-align: middle;\n",
       "    }\n",
       "\n",
       "    .dataframe tbody tr th {\n",
       "        vertical-align: top;\n",
       "    }\n",
       "\n",
       "    .dataframe thead th {\n",
       "        text-align: right;\n",
       "    }\n",
       "</style>\n",
       "<table border=\"1\" class=\"dataframe\">\n",
       "  <thead>\n",
       "    <tr style=\"text-align: right;\">\n",
       "      <th></th>\n",
       "      <th>App</th>\n",
       "      <th>Category</th>\n",
       "      <th>Rating</th>\n",
       "      <th>Reviews</th>\n",
       "      <th>Size</th>\n",
       "      <th>Installs</th>\n",
       "      <th>Type</th>\n",
       "      <th>Price</th>\n",
       "      <th>Content Rating</th>\n",
       "      <th>Genres</th>\n",
       "      <th>Last Updated</th>\n",
       "      <th>Current Ver</th>\n",
       "      <th>Android Ver</th>\n",
       "    </tr>\n",
       "  </thead>\n",
       "  <tbody>\n",
       "    <tr>\n",
       "      <th>0</th>\n",
       "      <td>Photo Editor &amp; Candy Camera &amp; Grid &amp; ScrapBook</td>\n",
       "      <td>ART_AND_DESIGN</td>\n",
       "      <td>4.1</td>\n",
       "      <td>159</td>\n",
       "      <td>19M</td>\n",
       "      <td>10,000+</td>\n",
       "      <td>Free</td>\n",
       "      <td>0</td>\n",
       "      <td>Everyone</td>\n",
       "      <td>Art &amp; Design</td>\n",
       "      <td>January 7, 2018</td>\n",
       "      <td>1.0.0</td>\n",
       "      <td>4.0.3 and up</td>\n",
       "    </tr>\n",
       "    <tr>\n",
       "      <th>1</th>\n",
       "      <td>Coloring book moana</td>\n",
       "      <td>ART_AND_DESIGN</td>\n",
       "      <td>3.9</td>\n",
       "      <td>967</td>\n",
       "      <td>14M</td>\n",
       "      <td>500,000+</td>\n",
       "      <td>Free</td>\n",
       "      <td>0</td>\n",
       "      <td>Everyone</td>\n",
       "      <td>Art &amp; Design;Pretend Play</td>\n",
       "      <td>January 15, 2018</td>\n",
       "      <td>2.0.0</td>\n",
       "      <td>4.0.3 and up</td>\n",
       "    </tr>\n",
       "    <tr>\n",
       "      <th>2</th>\n",
       "      <td>U Launcher Lite – FREE Live Cool Themes, Hide ...</td>\n",
       "      <td>ART_AND_DESIGN</td>\n",
       "      <td>4.7</td>\n",
       "      <td>87510</td>\n",
       "      <td>8.7M</td>\n",
       "      <td>5,000,000+</td>\n",
       "      <td>Free</td>\n",
       "      <td>0</td>\n",
       "      <td>Everyone</td>\n",
       "      <td>Art &amp; Design</td>\n",
       "      <td>August 1, 2018</td>\n",
       "      <td>1.2.4</td>\n",
       "      <td>4.0.3 and up</td>\n",
       "    </tr>\n",
       "    <tr>\n",
       "      <th>3</th>\n",
       "      <td>Sketch - Draw &amp; Paint</td>\n",
       "      <td>ART_AND_DESIGN</td>\n",
       "      <td>4.5</td>\n",
       "      <td>215644</td>\n",
       "      <td>25M</td>\n",
       "      <td>50,000,000+</td>\n",
       "      <td>Free</td>\n",
       "      <td>0</td>\n",
       "      <td>Teen</td>\n",
       "      <td>Art &amp; Design</td>\n",
       "      <td>June 8, 2018</td>\n",
       "      <td>Varies with device</td>\n",
       "      <td>4.2 and up</td>\n",
       "    </tr>\n",
       "    <tr>\n",
       "      <th>4</th>\n",
       "      <td>Pixel Draw - Number Art Coloring Book</td>\n",
       "      <td>ART_AND_DESIGN</td>\n",
       "      <td>4.3</td>\n",
       "      <td>967</td>\n",
       "      <td>2.8M</td>\n",
       "      <td>100,000+</td>\n",
       "      <td>Free</td>\n",
       "      <td>0</td>\n",
       "      <td>Everyone</td>\n",
       "      <td>Art &amp; Design;Creativity</td>\n",
       "      <td>June 20, 2018</td>\n",
       "      <td>1.1</td>\n",
       "      <td>4.4 and up</td>\n",
       "    </tr>\n",
       "    <tr>\n",
       "      <th>...</th>\n",
       "      <td>...</td>\n",
       "      <td>...</td>\n",
       "      <td>...</td>\n",
       "      <td>...</td>\n",
       "      <td>...</td>\n",
       "      <td>...</td>\n",
       "      <td>...</td>\n",
       "      <td>...</td>\n",
       "      <td>...</td>\n",
       "      <td>...</td>\n",
       "      <td>...</td>\n",
       "      <td>...</td>\n",
       "      <td>...</td>\n",
       "    </tr>\n",
       "    <tr>\n",
       "      <th>10836</th>\n",
       "      <td>Sya9a Maroc - FR</td>\n",
       "      <td>FAMILY</td>\n",
       "      <td>4.5</td>\n",
       "      <td>38</td>\n",
       "      <td>53M</td>\n",
       "      <td>5,000+</td>\n",
       "      <td>Free</td>\n",
       "      <td>0</td>\n",
       "      <td>Everyone</td>\n",
       "      <td>Education</td>\n",
       "      <td>July 25, 2017</td>\n",
       "      <td>1.48</td>\n",
       "      <td>4.1 and up</td>\n",
       "    </tr>\n",
       "    <tr>\n",
       "      <th>10837</th>\n",
       "      <td>Fr. Mike Schmitz Audio Teachings</td>\n",
       "      <td>FAMILY</td>\n",
       "      <td>5.0</td>\n",
       "      <td>4</td>\n",
       "      <td>3.6M</td>\n",
       "      <td>100+</td>\n",
       "      <td>Free</td>\n",
       "      <td>0</td>\n",
       "      <td>Everyone</td>\n",
       "      <td>Education</td>\n",
       "      <td>July 6, 2018</td>\n",
       "      <td>1.0</td>\n",
       "      <td>4.1 and up</td>\n",
       "    </tr>\n",
       "    <tr>\n",
       "      <th>10838</th>\n",
       "      <td>Parkinson Exercices FR</td>\n",
       "      <td>MEDICAL</td>\n",
       "      <td>NaN</td>\n",
       "      <td>3</td>\n",
       "      <td>9.5M</td>\n",
       "      <td>1,000+</td>\n",
       "      <td>Free</td>\n",
       "      <td>0</td>\n",
       "      <td>Everyone</td>\n",
       "      <td>Medical</td>\n",
       "      <td>January 20, 2017</td>\n",
       "      <td>1.0</td>\n",
       "      <td>2.2 and up</td>\n",
       "    </tr>\n",
       "    <tr>\n",
       "      <th>10839</th>\n",
       "      <td>The SCP Foundation DB fr nn5n</td>\n",
       "      <td>BOOKS_AND_REFERENCE</td>\n",
       "      <td>4.5</td>\n",
       "      <td>114</td>\n",
       "      <td>Varies with device</td>\n",
       "      <td>1,000+</td>\n",
       "      <td>Free</td>\n",
       "      <td>0</td>\n",
       "      <td>Mature 17+</td>\n",
       "      <td>Books &amp; Reference</td>\n",
       "      <td>January 19, 2015</td>\n",
       "      <td>Varies with device</td>\n",
       "      <td>Varies with device</td>\n",
       "    </tr>\n",
       "    <tr>\n",
       "      <th>10840</th>\n",
       "      <td>iHoroscope - 2018 Daily Horoscope &amp; Astrology</td>\n",
       "      <td>LIFESTYLE</td>\n",
       "      <td>4.5</td>\n",
       "      <td>398307</td>\n",
       "      <td>19M</td>\n",
       "      <td>10,000,000+</td>\n",
       "      <td>Free</td>\n",
       "      <td>0</td>\n",
       "      <td>Everyone</td>\n",
       "      <td>Lifestyle</td>\n",
       "      <td>July 25, 2018</td>\n",
       "      <td>Varies with device</td>\n",
       "      <td>Varies with device</td>\n",
       "    </tr>\n",
       "  </tbody>\n",
       "</table>\n",
       "<p>10841 rows × 13 columns</p>\n",
       "</div>"
      ],
      "text/plain": [
       "                                                     App             Category  \\\n",
       "0         Photo Editor & Candy Camera & Grid & ScrapBook       ART_AND_DESIGN   \n",
       "1                                    Coloring book moana       ART_AND_DESIGN   \n",
       "2      U Launcher Lite – FREE Live Cool Themes, Hide ...       ART_AND_DESIGN   \n",
       "3                                  Sketch - Draw & Paint       ART_AND_DESIGN   \n",
       "4                  Pixel Draw - Number Art Coloring Book       ART_AND_DESIGN   \n",
       "...                                                  ...                  ...   \n",
       "10836                                   Sya9a Maroc - FR               FAMILY   \n",
       "10837                   Fr. Mike Schmitz Audio Teachings               FAMILY   \n",
       "10838                             Parkinson Exercices FR              MEDICAL   \n",
       "10839                      The SCP Foundation DB fr nn5n  BOOKS_AND_REFERENCE   \n",
       "10840      iHoroscope - 2018 Daily Horoscope & Astrology            LIFESTYLE   \n",
       "\n",
       "       Rating Reviews                Size     Installs  Type Price  \\\n",
       "0         4.1     159                 19M      10,000+  Free     0   \n",
       "1         3.9     967                 14M     500,000+  Free     0   \n",
       "2         4.7   87510                8.7M   5,000,000+  Free     0   \n",
       "3         4.5  215644                 25M  50,000,000+  Free     0   \n",
       "4         4.3     967                2.8M     100,000+  Free     0   \n",
       "...       ...     ...                 ...          ...   ...   ...   \n",
       "10836     4.5      38                 53M       5,000+  Free     0   \n",
       "10837     5.0       4                3.6M         100+  Free     0   \n",
       "10838     NaN       3                9.5M       1,000+  Free     0   \n",
       "10839     4.5     114  Varies with device       1,000+  Free     0   \n",
       "10840     4.5  398307                 19M  10,000,000+  Free     0   \n",
       "\n",
       "      Content Rating                     Genres      Last Updated  \\\n",
       "0           Everyone               Art & Design   January 7, 2018   \n",
       "1           Everyone  Art & Design;Pretend Play  January 15, 2018   \n",
       "2           Everyone               Art & Design    August 1, 2018   \n",
       "3               Teen               Art & Design      June 8, 2018   \n",
       "4           Everyone    Art & Design;Creativity     June 20, 2018   \n",
       "...              ...                        ...               ...   \n",
       "10836       Everyone                  Education     July 25, 2017   \n",
       "10837       Everyone                  Education      July 6, 2018   \n",
       "10838       Everyone                    Medical  January 20, 2017   \n",
       "10839     Mature 17+          Books & Reference  January 19, 2015   \n",
       "10840       Everyone                  Lifestyle     July 25, 2018   \n",
       "\n",
       "              Current Ver         Android Ver  \n",
       "0                   1.0.0        4.0.3 and up  \n",
       "1                   2.0.0        4.0.3 and up  \n",
       "2                   1.2.4        4.0.3 and up  \n",
       "3      Varies with device          4.2 and up  \n",
       "4                     1.1          4.4 and up  \n",
       "...                   ...                 ...  \n",
       "10836                1.48          4.1 and up  \n",
       "10837                 1.0          4.1 and up  \n",
       "10838                 1.0          2.2 and up  \n",
       "10839  Varies with device  Varies with device  \n",
       "10840  Varies with device  Varies with device  \n",
       "\n",
       "[10841 rows x 13 columns]"
      ]
     },
     "execution_count": 2,
     "metadata": {},
     "output_type": "execute_result"
    }
   ],
   "source": [
    "# Inserting the data\n",
    "data = pd.read_csv('data/googleplaystore.csv')\n",
    "data"
   ]
  },
  {
   "cell_type": "markdown",
   "metadata": {},
   "source": [
    "### Cleaning the data\n",
    "#### Dropping rows\n",
    "There are a number of rows that have 'NaN' values and that have duplicate values. Thus, it is better to drop those wors so that the data can be analyzed for better results without any errors.\n",
    "\n",
    "First of, we drop all the data that have 'NaN' values by using the `dropna()` function."
   ]
  },
  {
   "cell_type": "code",
   "execution_count": 3,
   "metadata": {},
   "outputs": [
    {
     "data": {
      "text/plain": [
       "True"
      ]
     },
     "execution_count": 3,
     "metadata": {},
     "output_type": "execute_result"
    }
   ],
   "source": [
    "# Check if there is any 'NaN' values present in the data\n",
    "data.isnull().values.any()"
   ]
  },
  {
   "cell_type": "code",
   "execution_count": 4,
   "metadata": {},
   "outputs": [
    {
     "name": "stdout",
     "output_type": "stream",
     "text": [
      "Int64Index([    0,     1,     2,     3,     4,     5,     6,     7,     8,\n",
      "                9,\n",
      "            ...\n",
      "            10828, 10829, 10830, 10832, 10833, 10834, 10836, 10837, 10839,\n",
      "            10840],\n",
      "           dtype='int64', length=9360)\n"
     ]
    }
   ],
   "source": [
    "# Cleans the data using the dropna() and drop_duplicates() function from pandas\n",
    "# The dropna() function will remove rows which contain missing values\n",
    "data_clean = data.dropna()\n",
    "index = data_clean.index\n",
    "print(index)"
   ]
  },
  {
   "cell_type": "markdown",
   "metadata": {},
   "source": [
    "Then, we drop all the columns that have duplicate values by using the `drop_duplicates()` function."
   ]
  },
  {
   "cell_type": "code",
   "execution_count": 5,
   "metadata": {
    "scrolled": false
   },
   "outputs": [
    {
     "name": "stdout",
     "output_type": "stream",
     "text": [
      "Int64Index([    0,     1,     2,     3,     4,     5,     6,     7,     8,\n",
      "                9,\n",
      "            ...\n",
      "            10828, 10829, 10830, 10832, 10833, 10834, 10836, 10837, 10839,\n",
      "            10840],\n",
      "           dtype='int64', length=8886)\n"
     ]
    }
   ],
   "source": [
    "# The drop_duplicates() function will remove any duplicate data\n",
    "data_clean = data_clean.drop_duplicates()\n",
    "index = data_clean.index\n",
    "print(index)"
   ]
  },
  {
   "cell_type": "markdown",
   "metadata": {},
   "source": [
    "After dropping the rows, noticed that the indexes hasn't changed yet. Thus, it is better to reindex the dataframe by using the `reset_index()` function."
   ]
  },
  {
   "cell_type": "code",
   "execution_count": 6,
   "metadata": {},
   "outputs": [
    {
     "name": "stdout",
     "output_type": "stream",
     "text": [
      "RangeIndex(start=0, stop=8886, step=1)\n"
     ]
    },
    {
     "data": {
      "text/html": [
       "<div>\n",
       "<style scoped>\n",
       "    .dataframe tbody tr th:only-of-type {\n",
       "        vertical-align: middle;\n",
       "    }\n",
       "\n",
       "    .dataframe tbody tr th {\n",
       "        vertical-align: top;\n",
       "    }\n",
       "\n",
       "    .dataframe thead th {\n",
       "        text-align: right;\n",
       "    }\n",
       "</style>\n",
       "<table border=\"1\" class=\"dataframe\">\n",
       "  <thead>\n",
       "    <tr style=\"text-align: right;\">\n",
       "      <th></th>\n",
       "      <th>App</th>\n",
       "      <th>Category</th>\n",
       "      <th>Rating</th>\n",
       "      <th>Reviews</th>\n",
       "      <th>Size</th>\n",
       "      <th>Installs</th>\n",
       "      <th>Type</th>\n",
       "      <th>Price</th>\n",
       "      <th>Content Rating</th>\n",
       "      <th>Genres</th>\n",
       "      <th>Last Updated</th>\n",
       "      <th>Current Ver</th>\n",
       "      <th>Android Ver</th>\n",
       "    </tr>\n",
       "  </thead>\n",
       "  <tbody>\n",
       "    <tr>\n",
       "      <th>8881</th>\n",
       "      <td>FR Calculator</td>\n",
       "      <td>FAMILY</td>\n",
       "      <td>4.0</td>\n",
       "      <td>7</td>\n",
       "      <td>2.6M</td>\n",
       "      <td>500+</td>\n",
       "      <td>Free</td>\n",
       "      <td>0</td>\n",
       "      <td>Everyone</td>\n",
       "      <td>Education</td>\n",
       "      <td>June 18, 2017</td>\n",
       "      <td>1.0.0</td>\n",
       "      <td>4.1 and up</td>\n",
       "    </tr>\n",
       "    <tr>\n",
       "      <th>8882</th>\n",
       "      <td>Sya9a Maroc - FR</td>\n",
       "      <td>FAMILY</td>\n",
       "      <td>4.5</td>\n",
       "      <td>38</td>\n",
       "      <td>53M</td>\n",
       "      <td>5,000+</td>\n",
       "      <td>Free</td>\n",
       "      <td>0</td>\n",
       "      <td>Everyone</td>\n",
       "      <td>Education</td>\n",
       "      <td>July 25, 2017</td>\n",
       "      <td>1.48</td>\n",
       "      <td>4.1 and up</td>\n",
       "    </tr>\n",
       "    <tr>\n",
       "      <th>8883</th>\n",
       "      <td>Fr. Mike Schmitz Audio Teachings</td>\n",
       "      <td>FAMILY</td>\n",
       "      <td>5.0</td>\n",
       "      <td>4</td>\n",
       "      <td>3.6M</td>\n",
       "      <td>100+</td>\n",
       "      <td>Free</td>\n",
       "      <td>0</td>\n",
       "      <td>Everyone</td>\n",
       "      <td>Education</td>\n",
       "      <td>July 6, 2018</td>\n",
       "      <td>1.0</td>\n",
       "      <td>4.1 and up</td>\n",
       "    </tr>\n",
       "    <tr>\n",
       "      <th>8884</th>\n",
       "      <td>The SCP Foundation DB fr nn5n</td>\n",
       "      <td>BOOKS_AND_REFERENCE</td>\n",
       "      <td>4.5</td>\n",
       "      <td>114</td>\n",
       "      <td>Varies with device</td>\n",
       "      <td>1,000+</td>\n",
       "      <td>Free</td>\n",
       "      <td>0</td>\n",
       "      <td>Mature 17+</td>\n",
       "      <td>Books &amp; Reference</td>\n",
       "      <td>January 19, 2015</td>\n",
       "      <td>Varies with device</td>\n",
       "      <td>Varies with device</td>\n",
       "    </tr>\n",
       "    <tr>\n",
       "      <th>8885</th>\n",
       "      <td>iHoroscope - 2018 Daily Horoscope &amp; Astrology</td>\n",
       "      <td>LIFESTYLE</td>\n",
       "      <td>4.5</td>\n",
       "      <td>398307</td>\n",
       "      <td>19M</td>\n",
       "      <td>10,000,000+</td>\n",
       "      <td>Free</td>\n",
       "      <td>0</td>\n",
       "      <td>Everyone</td>\n",
       "      <td>Lifestyle</td>\n",
       "      <td>July 25, 2018</td>\n",
       "      <td>Varies with device</td>\n",
       "      <td>Varies with device</td>\n",
       "    </tr>\n",
       "  </tbody>\n",
       "</table>\n",
       "</div>"
      ],
      "text/plain": [
       "                                                App             Category  \\\n",
       "8881                                  FR Calculator               FAMILY   \n",
       "8882                               Sya9a Maroc - FR               FAMILY   \n",
       "8883               Fr. Mike Schmitz Audio Teachings               FAMILY   \n",
       "8884                  The SCP Foundation DB fr nn5n  BOOKS_AND_REFERENCE   \n",
       "8885  iHoroscope - 2018 Daily Horoscope & Astrology            LIFESTYLE   \n",
       "\n",
       "      Rating Reviews                Size     Installs  Type Price  \\\n",
       "8881     4.0       7                2.6M         500+  Free     0   \n",
       "8882     4.5      38                 53M       5,000+  Free     0   \n",
       "8883     5.0       4                3.6M         100+  Free     0   \n",
       "8884     4.5     114  Varies with device       1,000+  Free     0   \n",
       "8885     4.5  398307                 19M  10,000,000+  Free     0   \n",
       "\n",
       "     Content Rating             Genres      Last Updated         Current Ver  \\\n",
       "8881       Everyone          Education     June 18, 2017               1.0.0   \n",
       "8882       Everyone          Education     July 25, 2017                1.48   \n",
       "8883       Everyone          Education      July 6, 2018                 1.0   \n",
       "8884     Mature 17+  Books & Reference  January 19, 2015  Varies with device   \n",
       "8885       Everyone          Lifestyle     July 25, 2018  Varies with device   \n",
       "\n",
       "             Android Ver  \n",
       "8881          4.1 and up  \n",
       "8882          4.1 and up  \n",
       "8883          4.1 and up  \n",
       "8884  Varies with device  \n",
       "8885  Varies with device  "
      ]
     },
     "execution_count": 6,
     "metadata": {},
     "output_type": "execute_result"
    }
   ],
   "source": [
    "# Reindexing the dataframe after dropping rows\n",
    "# by using reset_index() function\n",
    "data_clean = data_clean.reset_index(drop=True)\n",
    "index = data_clean.index\n",
    "print(index)\n",
    "data_clean.tail()"
   ]
  },
  {
   "cell_type": "markdown",
   "metadata": {},
   "source": [
    "#### Converting values and dropping columns\n",
    "It is brought to our attention that there are some columns that will not be part of the analysis, those are:\n",
    "- `Last Updated`\n",
    "- `Current Ver`\n",
    "- `Android Ver`\n",
    "\n",
    "There are also some columns that have wrong datatypes. Therefore, it is better to convert all those necessary columns. Those columns are:\n",
    "- `Reviews` (to `int64` datatype)\n",
    "- `Price` (to `float` datatype)\n",
    "- `Installs` (to `int64` datatype)"
   ]
  },
  {
   "cell_type": "code",
   "execution_count": 7,
   "metadata": {},
   "outputs": [
    {
     "data": {
      "text/html": [
       "<div>\n",
       "<style scoped>\n",
       "    .dataframe tbody tr th:only-of-type {\n",
       "        vertical-align: middle;\n",
       "    }\n",
       "\n",
       "    .dataframe tbody tr th {\n",
       "        vertical-align: top;\n",
       "    }\n",
       "\n",
       "    .dataframe thead th {\n",
       "        text-align: right;\n",
       "    }\n",
       "</style>\n",
       "<table border=\"1\" class=\"dataframe\">\n",
       "  <thead>\n",
       "    <tr style=\"text-align: right;\">\n",
       "      <th></th>\n",
       "      <th>App</th>\n",
       "      <th>Category</th>\n",
       "      <th>Rating</th>\n",
       "      <th>Reviews</th>\n",
       "      <th>Size</th>\n",
       "      <th>Installs</th>\n",
       "      <th>Type</th>\n",
       "      <th>Price</th>\n",
       "      <th>Content Rating</th>\n",
       "      <th>Genres</th>\n",
       "    </tr>\n",
       "  </thead>\n",
       "  <tbody>\n",
       "    <tr>\n",
       "      <th>0</th>\n",
       "      <td>Photo Editor &amp; Candy Camera &amp; Grid &amp; ScrapBook</td>\n",
       "      <td>ART_AND_DESIGN</td>\n",
       "      <td>4.1</td>\n",
       "      <td>159</td>\n",
       "      <td>19M</td>\n",
       "      <td>10,000+</td>\n",
       "      <td>Free</td>\n",
       "      <td>0</td>\n",
       "      <td>Everyone</td>\n",
       "      <td>Art &amp; Design</td>\n",
       "    </tr>\n",
       "    <tr>\n",
       "      <th>1</th>\n",
       "      <td>Coloring book moana</td>\n",
       "      <td>ART_AND_DESIGN</td>\n",
       "      <td>3.9</td>\n",
       "      <td>967</td>\n",
       "      <td>14M</td>\n",
       "      <td>500,000+</td>\n",
       "      <td>Free</td>\n",
       "      <td>0</td>\n",
       "      <td>Everyone</td>\n",
       "      <td>Art &amp; Design;Pretend Play</td>\n",
       "    </tr>\n",
       "    <tr>\n",
       "      <th>2</th>\n",
       "      <td>U Launcher Lite – FREE Live Cool Themes, Hide ...</td>\n",
       "      <td>ART_AND_DESIGN</td>\n",
       "      <td>4.7</td>\n",
       "      <td>87510</td>\n",
       "      <td>8.7M</td>\n",
       "      <td>5,000,000+</td>\n",
       "      <td>Free</td>\n",
       "      <td>0</td>\n",
       "      <td>Everyone</td>\n",
       "      <td>Art &amp; Design</td>\n",
       "    </tr>\n",
       "    <tr>\n",
       "      <th>3</th>\n",
       "      <td>Sketch - Draw &amp; Paint</td>\n",
       "      <td>ART_AND_DESIGN</td>\n",
       "      <td>4.5</td>\n",
       "      <td>215644</td>\n",
       "      <td>25M</td>\n",
       "      <td>50,000,000+</td>\n",
       "      <td>Free</td>\n",
       "      <td>0</td>\n",
       "      <td>Teen</td>\n",
       "      <td>Art &amp; Design</td>\n",
       "    </tr>\n",
       "    <tr>\n",
       "      <th>4</th>\n",
       "      <td>Pixel Draw - Number Art Coloring Book</td>\n",
       "      <td>ART_AND_DESIGN</td>\n",
       "      <td>4.3</td>\n",
       "      <td>967</td>\n",
       "      <td>2.8M</td>\n",
       "      <td>100,000+</td>\n",
       "      <td>Free</td>\n",
       "      <td>0</td>\n",
       "      <td>Everyone</td>\n",
       "      <td>Art &amp; Design;Creativity</td>\n",
       "    </tr>\n",
       "  </tbody>\n",
       "</table>\n",
       "</div>"
      ],
      "text/plain": [
       "                                                 App        Category  Rating  \\\n",
       "0     Photo Editor & Candy Camera & Grid & ScrapBook  ART_AND_DESIGN     4.1   \n",
       "1                                Coloring book moana  ART_AND_DESIGN     3.9   \n",
       "2  U Launcher Lite – FREE Live Cool Themes, Hide ...  ART_AND_DESIGN     4.7   \n",
       "3                              Sketch - Draw & Paint  ART_AND_DESIGN     4.5   \n",
       "4              Pixel Draw - Number Art Coloring Book  ART_AND_DESIGN     4.3   \n",
       "\n",
       "  Reviews  Size     Installs  Type Price Content Rating  \\\n",
       "0     159   19M      10,000+  Free     0       Everyone   \n",
       "1     967   14M     500,000+  Free     0       Everyone   \n",
       "2   87510  8.7M   5,000,000+  Free     0       Everyone   \n",
       "3  215644   25M  50,000,000+  Free     0           Teen   \n",
       "4     967  2.8M     100,000+  Free     0       Everyone   \n",
       "\n",
       "                      Genres  \n",
       "0               Art & Design  \n",
       "1  Art & Design;Pretend Play  \n",
       "2               Art & Design  \n",
       "3               Art & Design  \n",
       "4    Art & Design;Creativity  "
      ]
     },
     "execution_count": 7,
     "metadata": {},
     "output_type": "execute_result"
    }
   ],
   "source": [
    "# Drop any columns that are unnecessary to be used for the analysis by using the 'drop()' function\n",
    "data_clean = data_clean.drop(['Last Updated', 'Current Ver', 'Android Ver'], 1)\n",
    "data_clean.head()"
   ]
  },
  {
   "cell_type": "code",
   "execution_count": 8,
   "metadata": {},
   "outputs": [
    {
     "data": {
      "text/plain": [
       "0          159\n",
       "1          967\n",
       "2        87510\n",
       "3       215644\n",
       "4          967\n",
       "         ...  \n",
       "8881         7\n",
       "8882        38\n",
       "8883         4\n",
       "8884       114\n",
       "8885    398307\n",
       "Name: Reviews, Length: 8886, dtype: int64"
      ]
     },
     "execution_count": 8,
     "metadata": {},
     "output_type": "execute_result"
    }
   ],
   "source": [
    "# Converting the 'Reviews' and 'Price' rows to appropriate datatypes\n",
    "# 'Reviews' column to int64\n",
    "data_clean.Reviews = pd.to_numeric(data_clean.Reviews, errors='coerce')\n",
    "data_clean.Reviews"
   ]
  },
  {
   "cell_type": "code",
   "execution_count": 9,
   "metadata": {},
   "outputs": [
    {
     "data": {
      "text/plain": [
       "0       0.0\n",
       "1       0.0\n",
       "2       0.0\n",
       "3       0.0\n",
       "4       0.0\n",
       "       ... \n",
       "8881    0.0\n",
       "8882    0.0\n",
       "8883    0.0\n",
       "8884    0.0\n",
       "8885    0.0\n",
       "Name: Price, Length: 8886, dtype: float64"
      ]
     },
     "execution_count": 9,
     "metadata": {},
     "output_type": "execute_result"
    }
   ],
   "source": [
    "# 'Price' column to Float\n",
    "data_clean.Price = data_clean.Price.str.replace('$','')\n",
    "data_clean.Price = pd.to_numeric(data_clean.Price, errors='coerce')\n",
    "data_clean.Price"
   ]
  },
  {
   "cell_type": "code",
   "execution_count": 10,
   "metadata": {},
   "outputs": [
    {
     "data": {
      "text/plain": [
       "0          10000\n",
       "1         500000\n",
       "2        5000000\n",
       "3       50000000\n",
       "4         100000\n",
       "          ...   \n",
       "8881         500\n",
       "8882        5000\n",
       "8883         100\n",
       "8884        1000\n",
       "8885    10000000\n",
       "Name: Installs, Length: 8886, dtype: int64"
      ]
     },
     "execution_count": 10,
     "metadata": {},
     "output_type": "execute_result"
    }
   ],
   "source": [
    "# 'Installs' column to Int64\n",
    "data_clean.Installs = data_clean.Installs.str.replace('+','')\n",
    "data_clean.Installs = data_clean.Installs.str.replace(',','')\n",
    "data_clean.Installs = pd.to_numeric(data_clean.Installs, errors='coerce')\n",
    "data_clean.Installs"
   ]
  },
  {
   "cell_type": "markdown",
   "metadata": {},
   "source": [
    "From what we know, there are:\n",
    "1. 8886 data that will be used\n",
    "2. 10 types of columns. Among them, there are:\n",
    "    - 4 Numerical columns\n",
    "    - 6 Categorical columns"
   ]
  },
  {
   "cell_type": "markdown",
   "metadata": {},
   "source": [
    "### Print the Numerical data"
   ]
  },
  {
   "cell_type": "code",
   "execution_count": 11,
   "metadata": {},
   "outputs": [
    {
     "data": {
      "text/plain": [
       "count    8886.00000\n",
       "mean        4.18796\n",
       "std         0.52243\n",
       "min         1.00000\n",
       "25%         4.00000\n",
       "50%         4.30000\n",
       "75%         4.50000\n",
       "max         5.00000\n",
       "Name: Rating, dtype: float64"
      ]
     },
     "execution_count": 11,
     "metadata": {},
     "output_type": "execute_result"
    }
   ],
   "source": [
    "# Decribe the 'Rating' row\n",
    "data_clean.Rating.describe().round(5)"
   ]
  },
  {
   "cell_type": "code",
   "execution_count": 95,
   "metadata": {},
   "outputs": [
    {
     "data": {
      "text/plain": [
       "count    8.886000e+03\n",
       "mean     4.730928e+05\n",
       "std      2.906007e+06\n",
       "min      1.000000e+00\n",
       "25%      1.640000e+02\n",
       "50%      4.723000e+03\n",
       "75%      7.131325e+04\n",
       "max      7.815831e+07\n",
       "Name: Reviews, dtype: float64"
      ]
     },
     "execution_count": 95,
     "metadata": {},
     "output_type": "execute_result"
    }
   ],
   "source": [
    "# Decribe the 'Rating' row\n",
    "data_clean.Reviews.describe()"
   ]
  },
  {
   "cell_type": "code",
   "execution_count": 96,
   "metadata": {},
   "outputs": [
    {
     "data": {
      "text/plain": [
       "count    8886.000000\n",
       "mean        0.963526\n",
       "std        16.194792\n",
       "min         0.000000\n",
       "25%         0.000000\n",
       "50%         0.000000\n",
       "75%         0.000000\n",
       "max       400.000000\n",
       "Name: Price, dtype: float64"
      ]
     },
     "execution_count": 96,
     "metadata": {},
     "output_type": "execute_result"
    }
   ],
   "source": [
    "# Decribe the 'Price' row\n",
    "data_clean.Price.describe()"
   ]
  },
  {
   "cell_type": "code",
   "execution_count": 182,
   "metadata": {},
   "outputs": [
    {
     "data": {
      "text/plain": [
       "count    8.886000e+03\n",
       "mean     1.650061e+07\n",
       "std      8.640413e+07\n",
       "min      1.000000e+00\n",
       "25%      1.000000e+04\n",
       "50%      5.000000e+05\n",
       "75%      5.000000e+06\n",
       "max      1.000000e+09\n",
       "Name: Installs, dtype: float64"
      ]
     },
     "execution_count": 182,
     "metadata": {},
     "output_type": "execute_result"
    }
   ],
   "source": [
    "# Decribe the 'Price' row\n",
    "data_clean.Installs.describe()"
   ]
  },
  {
   "cell_type": "markdown",
   "metadata": {},
   "source": [
    "### Print the Categorical Data"
   ]
  },
  {
   "cell_type": "code",
   "execution_count": 15,
   "metadata": {
    "scrolled": false
   },
   "outputs": [
    {
     "name": "stdout",
     "output_type": "stream",
     "text": [
      "0    ART_AND_DESIGN\n",
      "1    ART_AND_DESIGN\n",
      "2    ART_AND_DESIGN\n",
      "3    ART_AND_DESIGN\n",
      "4    ART_AND_DESIGN\n",
      "Name: Category, dtype: object\n",
      "Unique members:  33\n"
     ]
    },
    {
     "data": {
      "text/plain": [
       "Category\n",
       "FAMILY                 1683\n",
       "GAME                    913\n",
       "TOOLS                   719\n",
       "FINANCE                 302\n",
       "LIFESTYLE               301\n",
       "PRODUCTIVITY            301\n",
       "PERSONALIZATION         296\n",
       "MEDICAL                 291\n",
       "BUSINESS                263\n",
       "PHOTOGRAPHY             263\n",
       "SPORTS                  262\n",
       "COMMUNICATION           257\n",
       "HEALTH_AND_FITNESS      244\n",
       "NEWS_AND_MAGAZINES      204\n",
       "SOCIAL                  203\n",
       "TRAVEL_AND_LOCAL        187\n",
       "SHOPPING                180\n",
       "BOOKS_AND_REFERENCE     169\n",
       "VIDEO_PLAYERS           149\n",
       "DATING                  134\n",
       "EDUCATION               118\n",
       "MAPS_AND_NAVIGATION     118\n",
       "ENTERTAINMENT           102\n",
       "FOOD_AND_DRINK           94\n",
       "AUTO_AND_VEHICLES        73\n",
       "WEATHER                  72\n",
       "LIBRARIES_AND_DEMO       63\n",
       "HOUSE_AND_HOME           62\n",
       "ART_AND_DESIGN           60\n",
       "COMICS                   54\n",
       "PARENTING                50\n",
       "EVENTS                   45\n",
       "BEAUTY                   42\n",
       "Name: App, dtype: int64"
      ]
     },
     "execution_count": 15,
     "metadata": {},
     "output_type": "execute_result"
    }
   ],
   "source": [
    "# Print first 5 columns of 'Category' row along with count value of it and top 5 'Category'\n",
    "print(data_clean['Category'].head())\n",
    "print(\"Unique members: \", data_clean['Category'].nunique())\n",
    "df_category = data_clean.groupby('Category')['App'].nunique()\n",
    "df_category_head = df_category.sort_values(ascending=False)\n",
    "df_category_head"
   ]
  },
  {
   "cell_type": "code",
   "execution_count": 45,
   "metadata": {},
   "outputs": [
    {
     "name": "stdout",
     "output_type": "stream",
     "text": [
      "0     19M\n",
      "1     14M\n",
      "2    8.7M\n",
      "3     25M\n",
      "4    2.8M\n",
      "Name: Size, dtype: object\n",
      "Unique members:  413\n"
     ]
    },
    {
     "data": {
      "text/plain": [
       "Size\n",
       "Varies with device    1171\n",
       "14M                    148\n",
       "12M                    147\n",
       "11M                    143\n",
       "13M                    143\n",
       "Name: App, dtype: int64"
      ]
     },
     "execution_count": 45,
     "metadata": {},
     "output_type": "execute_result"
    }
   ],
   "source": [
    "# Print first 5 columns of 'Size' row along with count value of it and top 5 'Category'\n",
    "print(data_clean['Size'].head())\n",
    "print(\"Unique members: \", data_clean['Size'].nunique())\n",
    "df_size = data_clean.groupby('Size')['App'].nunique()\n",
    "df_size.sort_values(ascending=False).head()"
   ]
  },
  {
   "cell_type": "code",
   "execution_count": 46,
   "metadata": {},
   "outputs": [
    {
     "name": "stdout",
     "output_type": "stream",
     "text": [
      "0    Free\n",
      "1    Free\n",
      "2    Free\n",
      "3    Free\n",
      "4    Free\n",
      "Name: Type, dtype: object\n",
      "Unique members:  2\n"
     ]
    },
    {
     "data": {
      "text/plain": [
       "Type\n",
       "Free    7590\n",
       "Paid     602\n",
       "Name: App, dtype: int64"
      ]
     },
     "execution_count": 46,
     "metadata": {},
     "output_type": "execute_result"
    }
   ],
   "source": [
    "# Print first 5 columns of 'Type' row along with count value of it and top 5 'Category'\n",
    "print(data_clean['Type'].head())\n",
    "print(\"Unique members: \", data_clean['Type'].nunique())\n",
    "df_type = data_clean.groupby('Type')['App'].nunique()\n",
    "df_type.sort_values(ascending=False).head()"
   ]
  },
  {
   "cell_type": "code",
   "execution_count": 47,
   "metadata": {},
   "outputs": [
    {
     "name": "stdout",
     "output_type": "stream",
     "text": [
      "0    Everyone\n",
      "1    Everyone\n",
      "2    Everyone\n",
      "3        Teen\n",
      "4    Everyone\n",
      "Name: Content Rating, dtype: object\n",
      "Unique members:  6\n"
     ]
    },
    {
     "data": {
      "text/plain": [
       "Content Rating\n",
       "Everyone           6612\n",
       "Teen                912\n",
       "Mature 17+          357\n",
       "Everyone 10+        305\n",
       "Adults only 18+       3\n",
       "Name: App, dtype: int64"
      ]
     },
     "execution_count": 47,
     "metadata": {},
     "output_type": "execute_result"
    }
   ],
   "source": [
    "# Print first 5 columns of 'Content Rating' row along with count value of it and top 5 'Category'\n",
    "print(data_clean['Content Rating'].head())\n",
    "print(\"Unique members: \", data_clean['Content Rating'].nunique())\n",
    "df_cont_rat = data_clean.groupby('Content Rating')['App'].nunique()\n",
    "df_cont_rat.sort_values(ascending=False).head()"
   ]
  },
  {
   "cell_type": "code",
   "execution_count": 132,
   "metadata": {},
   "outputs": [
    {
     "name": "stdout",
     "output_type": "stream",
     "text": [
      "0                 Art & Design\n",
      "1    Art & Design;Pretend Play\n",
      "2                 Art & Design\n",
      "3                 Art & Design\n",
      "4      Art & Design;Creativity\n",
      "Name: Genres, dtype: object\n",
      "Unique members:  115\n"
     ]
    },
    {
     "data": {
      "text/plain": [
       "Genres\n",
       "Tools            718\n",
       "Entertainment    471\n",
       "Education        429\n",
       "Finance          302\n",
       "Productivity     301\n",
       "Name: App, dtype: int64"
      ]
     },
     "execution_count": 132,
     "metadata": {},
     "output_type": "execute_result"
    }
   ],
   "source": [
    "# Print first 5 columns of 'Genres' row along with count value of it and top 5 'Category'\n",
    "print(data_clean['Genres'].head())\n",
    "print(\"Unique members: \", data_clean['Genres'].nunique())\n",
    "df_genre = data_clean.groupby('Genres')['App'].nunique()\n",
    "df_genre.sort_values(ascending=False).head()"
   ]
  },
  {
   "cell_type": "markdown",
   "metadata": {},
   "source": [
    "### Correlating data\n",
    "1. Ratings with Reviews\n",
    "2. Ratings with Content Rating\n",
    "3. Installs with Genres\n",
    "4. Ratings, Reviews and Installs\n",
    "\n",
    "Temporary Hypothesis:\n",
    "- Art & Design have high value on `Installs` and `Reviews`\n",
    "- Education have high value on `Installs`\n",
    "- High `Installs` = High `Ratings`\n",
    "- High `Installs` = High `Reviews`"
   ]
  },
  {
   "cell_type": "markdown",
   "metadata": {},
   "source": [
    "### Plots"
   ]
  },
  {
   "cell_type": "code",
   "execution_count": 112,
   "metadata": {},
   "outputs": [
    {
     "data": {
      "text/plain": [
       "Text(0, 0.5, 'Applications')"
      ]
     },
     "execution_count": 112,
     "metadata": {},
     "output_type": "execute_result"
    },
    {
     "data": {
      "image/png": "[encoded data removed]",
      "text/plain": [
       "<Figure size 720x360 with 2 Axes>"
      ]
     },
     "metadata": {
      "needs_background": "light"
     },
     "output_type": "display_data"
    }
   ],
   "source": [
    "# Ratings with Reviews (Histogram)\n",
    "x = data_clean.Reviews\n",
    "y = data_clean.Rating\n",
    "\n",
    "fig, plot_rating_review = plt.subplots(nrows=1, ncols=2, figsize=(10, 5))\n",
    "plot_rating_review[0].hist(x)\n",
    "plot_rating_review[0].set_xlabel('Reviews (Multiply by 10^7)')\n",
    "plot_rating_review[0].set_ylabel('Applications')\n",
    "\n",
    "plot_rating_review[1].hist(y)\n",
    "plot_rating_review[1].set_xlabel('Ratings')\n",
    "plot_rating_review[1].set_ylabel('Applications')"
   ]
  },
  {
   "cell_type": "code",
   "execution_count": 214,
   "metadata": {},
   "outputs": [
    {
     "data": {
      "text/html": [
       "<style  type=\"text/css\" >\n",
       "#T_e596c77f_a1cf_11eb_bc2f_3868935d1c08row0_col0,#T_e596c77f_a1cf_11eb_bc2f_3868935d1c08row1_col1,#T_e596c77f_a1cf_11eb_bc2f_3868935d1c08row2_col2,#T_e596c77f_a1cf_11eb_bc2f_3868935d1c08row3_col3{\n",
       "            background-color:  #b40426;\n",
       "            color:  #f1f1f1;\n",
       "        }#T_e596c77f_a1cf_11eb_bc2f_3868935d1c08row0_col1{\n",
       "            background-color:  #516ddb;\n",
       "            color:  #000000;\n",
       "        }#T_e596c77f_a1cf_11eb_bc2f_3868935d1c08row0_col2{\n",
       "            background-color:  #4c66d6;\n",
       "            color:  #000000;\n",
       "        }#T_e596c77f_a1cf_11eb_bc2f_3868935d1c08row0_col3,#T_e596c77f_a1cf_11eb_bc2f_3868935d1c08row3_col0,#T_e596c77f_a1cf_11eb_bc2f_3868935d1c08row3_col1,#T_e596c77f_a1cf_11eb_bc2f_3868935d1c08row3_col2{\n",
       "            background-color:  #3b4cc0;\n",
       "            color:  #f1f1f1;\n",
       "        }#T_e596c77f_a1cf_11eb_bc2f_3868935d1c08row1_col0{\n",
       "            background-color:  #5572df;\n",
       "            color:  #000000;\n",
       "        }#T_e596c77f_a1cf_11eb_bc2f_3868935d1c08row1_col2,#T_e596c77f_a1cf_11eb_bc2f_3868935d1c08row2_col1{\n",
       "            background-color:  #f5c0a7;\n",
       "            color:  #000000;\n",
       "        }#T_e596c77f_a1cf_11eb_bc2f_3868935d1c08row1_col3{\n",
       "            background-color:  #3e51c5;\n",
       "            color:  #f1f1f1;\n",
       "        }#T_e596c77f_a1cf_11eb_bc2f_3868935d1c08row2_col0{\n",
       "            background-color:  #506bda;\n",
       "            color:  #000000;\n",
       "        }#T_e596c77f_a1cf_11eb_bc2f_3868935d1c08row2_col3{\n",
       "            background-color:  #3d50c3;\n",
       "            color:  #f1f1f1;\n",
       "        }</style><table id=\"T_e596c77f_a1cf_11eb_bc2f_3868935d1c08\" ><thead>    <tr>        <th class=\"blank level0\" ></th>        <th class=\"col_heading level0 col0\" >Rating</th>        <th class=\"col_heading level0 col1\" >Reviews</th>        <th class=\"col_heading level0 col2\" >Installs</th>        <th class=\"col_heading level0 col3\" >Price</th>    </tr></thead><tbody>\n",
       "                <tr>\n",
       "                        <th id=\"T_e596c77f_a1cf_11eb_bc2f_3868935d1c08level0_row0\" class=\"row_heading level0 row0\" >Rating</th>\n",
       "                        <td id=\"T_e596c77f_a1cf_11eb_bc2f_3868935d1c08row0_col0\" class=\"data row0 col0\" >1.000000</td>\n",
       "                        <td id=\"T_e596c77f_a1cf_11eb_bc2f_3868935d1c08row0_col1\" class=\"data row0 col1\" >0.068724</td>\n",
       "                        <td id=\"T_e596c77f_a1cf_11eb_bc2f_3868935d1c08row0_col2\" class=\"data row0 col2\" >0.050869</td>\n",
       "                        <td id=\"T_e596c77f_a1cf_11eb_bc2f_3868935d1c08row0_col3\" class=\"data row0 col3\" >-0.022371</td>\n",
       "            </tr>\n",
       "            <tr>\n",
       "                        <th id=\"T_e596c77f_a1cf_11eb_bc2f_3868935d1c08level0_row1\" class=\"row_heading level0 row1\" >Reviews</th>\n",
       "                        <td id=\"T_e596c77f_a1cf_11eb_bc2f_3868935d1c08row1_col0\" class=\"data row1 col0\" >0.068724</td>\n",
       "                        <td id=\"T_e596c77f_a1cf_11eb_bc2f_3868935d1c08row1_col1\" class=\"data row1 col1\" >1.000000</td>\n",
       "                        <td id=\"T_e596c77f_a1cf_11eb_bc2f_3868935d1c08row1_col2\" class=\"data row1 col2\" >0.633422</td>\n",
       "                        <td id=\"T_e596c77f_a1cf_11eb_bc2f_3868935d1c08row1_col3\" class=\"data row1 col3\" >-0.009562</td>\n",
       "            </tr>\n",
       "            <tr>\n",
       "                        <th id=\"T_e596c77f_a1cf_11eb_bc2f_3868935d1c08level0_row2\" class=\"row_heading level0 row2\" >Installs</th>\n",
       "                        <td id=\"T_e596c77f_a1cf_11eb_bc2f_3868935d1c08row2_col0\" class=\"data row2 col0\" >0.050869</td>\n",
       "                        <td id=\"T_e596c77f_a1cf_11eb_bc2f_3868935d1c08row2_col1\" class=\"data row2 col1\" >0.633422</td>\n",
       "                        <td id=\"T_e596c77f_a1cf_11eb_bc2f_3868935d1c08row2_col2\" class=\"data row2 col2\" >1.000000</td>\n",
       "                        <td id=\"T_e596c77f_a1cf_11eb_bc2f_3868935d1c08row2_col3\" class=\"data row2 col3\" >-0.011334</td>\n",
       "            </tr>\n",
       "            <tr>\n",
       "                        <th id=\"T_e596c77f_a1cf_11eb_bc2f_3868935d1c08level0_row3\" class=\"row_heading level0 row3\" >Price</th>\n",
       "                        <td id=\"T_e596c77f_a1cf_11eb_bc2f_3868935d1c08row3_col0\" class=\"data row3 col0\" >-0.022371</td>\n",
       "                        <td id=\"T_e596c77f_a1cf_11eb_bc2f_3868935d1c08row3_col1\" class=\"data row3 col1\" >-0.009562</td>\n",
       "                        <td id=\"T_e596c77f_a1cf_11eb_bc2f_3868935d1c08row3_col2\" class=\"data row3 col2\" >-0.011334</td>\n",
       "                        <td id=\"T_e596c77f_a1cf_11eb_bc2f_3868935d1c08row3_col3\" class=\"data row3 col3\" >1.000000</td>\n",
       "            </tr>\n",
       "    </tbody></table>"
      ],
      "text/plain": [
       "<pandas.io.formats.style.Styler at 0x221d54c7df0>"
      ]
     },
     "execution_count": 214,
     "metadata": {},
     "output_type": "execute_result"
    }
   ],
   "source": [
    "# Correlation table for Ratings, Reviews, Installs and Price\n",
    "corr = data_clean.corr()\n",
    "corr.style.background_gradient(cmap='coolwarm')"
   ]
  },
  {
   "cell_type": "code",
   "execution_count": 216,
   "metadata": {},
   "outputs": [
    {
     "data": {
      "text/plain": [
       "<AxesSubplot:title={'center':'Rating'}, xlabel='Content Rating'>"
      ]
     },
     "execution_count": 216,
     "metadata": {},
     "output_type": "execute_result"
    },
    {
     "data": {
      "image/png": "[encoded data removed]",
      "text/plain": [
       "<Figure size 720x360 with 1 Axes>"
      ]
     },
     "metadata": {
      "needs_background": "light"
     },
     "output_type": "display_data"
    }
   ],
   "source": [
    "# Ratings with Content Rating (Box Plot)\n",
    "fig, plot_rating_review = plt.subplots(figsize=(10, 5))\n",
    "    data_clean.boxplot(column=['Rating'], by='Content Rating', ax=plot_rating_review)"
   ]
  },
  {
   "cell_type": "code",
   "execution_count": 213,
   "metadata": {},
   "outputs": [
    {
     "data": {
      "image/png": "[encoded data removed]",
      "text/plain": [
       "<Figure size 504x504 with 1 Axes>"
      ]
     },
     "metadata": {},
     "output_type": "display_data"
    }
   ],
   "source": [
    "# Installs with Categories (Pie Chart)\n",
    "installs_cat_pivot = pd.pivot_table(data=data_clean,\n",
    "              index='Category',\n",
    "              values='Installs',\n",
    "              aggfunc='sum')\n",
    "installs_cat_pivot = installs_cat_pivot.reindex(installs_cat_pivot['Installs'].sort_values(ascending=False).index).head(5)\n",
    "plot = installs_cat_pivot.plot.pie(y='Installs', figsize=(7, 7), legend=False, autopct='%1.0f%%')"
   ]
  },
  {
   "cell_type": "code",
   "execution_count": 215,
   "metadata": {},
   "outputs": [
    {
     "data": {
      "image/png": "[encoded data removed]",
      "text/plain": [
       "<Figure size 504x504 with 1 Axes>"
      ]
     },
     "metadata": {},
     "output_type": "display_data"
    }
   ],
   "source": [
    "# Reviews with Categories (Pie Chart)\n",
    "review_cat_pivot = pd.pivot_table(data=data_clean,\n",
    "              index='Category',\n",
    "              values='Reviews',\n",
    "              aggfunc='sum')\n",
    "review_cat_pivot = review_cat_pivot.reindex(review_cat_pivot['Reviews'].sort_values(ascending=False).index).head(5)\n",
    "plot = review_cat_pivot.plot.pie(y='Reviews', figsize=(7, 7), legend=False, autopct='%1.0f%%')"
   ]
  },
  {
   "cell_type": "code",
   "execution_count": null,
   "metadata": {},
   "outputs": [],
   "source": []
  }
 ],
 "metadata": {
  "kernelspec": {
   "display_name": "Python 3",
   "language": "python",
   "name": "python3"
  },
  "language_info": {
   "codemirror_mode": {
    "name": "ipython",
    "version": 3
   },
   "file_extension": ".py",
   "mimetype": "text/x-python",
   "name": "python",
   "nbconvert_exporter": "python",
   "pygments_lexer": "ipython3",
   "version": "3.8.5"
  }
 },
 "nbformat": 4,
 "nbformat_minor": 4
}
